{
 "cells": [
  {
   "cell_type": "code",
   "execution_count": 1,
   "id": "b77880dc",
   "metadata": {},
   "outputs": [
    {
     "data": {
      "text/plain": [
       "True"
      ]
     },
     "execution_count": 1,
     "metadata": {},
     "output_type": "execute_result"
    }
   ],
   "source": [
    "import os, json\n",
    "import pandas as pd\n",
    "from pathlib import Path\n",
    "from dotenv import load_dotenv\n",
    "from azure.core.credentials import AzureKeyCredential\n",
    "from azure.ai.formrecognizer import DocumentAnalysisClient\n",
    "import numpy as np\n",
    "\n",
    "load_dotenv(\".env\")"
   ]
  },
  {
   "cell_type": "code",
   "execution_count": 2,
   "id": "04173460",
   "metadata": {},
   "outputs": [],
   "source": [
    "endpoint = os.environ[\"FR_ENDPOINT\"]\n",
    "key = os.environ[\"FR_KEY\"]\n",
    "\n",
    "# Instantiate DocumentAnalysisClient\n",
    "document_analysis_client = DocumentAnalysisClient(\n",
    "    endpoint=endpoint, credential=AzureKeyCredential(key)\n",
    ")"
   ]
  },
  {
   "attachments": {},
   "cell_type": "markdown",
   "id": "5067951c",
   "metadata": {},
   "source": [
    "<h5>Document Intelligence - Text Extraction by Layout Model\n",
    "</h5>"
   ]
  },
  {
   "cell_type": "markdown",
   "id": "0e770dbc",
   "metadata": {},
   "source": [
    "\n",
    "├── pdf_dir  \n",
    "│&emsp; &emsp; ├── text_dir  \n",
    "│&emsp; &emsp; └── pdf files  \n",
    "this script"
   ]
  },
  {
   "cell_type": "code",
   "execution_count": 3,
   "id": "ddc03d9f",
   "metadata": {},
   "outputs": [],
   "source": [
    "pdf_dir = Path('./pdf')\n",
    "text_dir = Path('./text')\n",
    "text_path = Path(os.path.join(pdf_dir, text_dir))\n",
    "os.makedirs(text_path, exist_ok=True)\n",
    "\n",
    "def format_out_doc(resultPages: list, title: str):\n",
    "    out_doc = {}\n",
    "    for page in resultPages:\n",
    "        page_content = \"\"\n",
    "        for line in page.lines:\n",
    "            page_content += line.content + \"\\n\"\n",
    "        page_content = page_content.replace('\\n',' \\n').replace(\":unselected:\", \" \")\n",
    "        out_doc[title + \"_\" +\"{:02}\".format(page.page_number)] = page_content\n",
    "    return out_doc\n",
    "\n",
    "\n",
    "\n",
    "for pdf in next(os.walk(pdf_dir))[2]:\n",
    "\n",
    "    with open(os.path.join(pdf_dir, pdf), \"rb\") as f:        \n",
    "        data_bytes = f.read()\n",
    "        #print(f\"Analyzing {pdf}\")\n",
    "        poller = document_analysis_client.begin_analyze_document(\"prebuilt-layout\", data_bytes)\n",
    "        result = poller.result()\n",
    "        #text = result.content.replace('\\n',' \\n').replace(':unselected:',' ')\n",
    "        title = Path(pdf).stem\n",
    "        text = format_out_doc(result.pages, title)\n",
    "\n",
    "        out_fname = title + \".txt\"\n",
    "        with open(os.path.join(text_path, out_fname), 'w', encoding='utf-8') as outfile:\n",
    "            #outfile.write(text)\n",
    "            outfile.write(json.dumps(text, ensure_ascii=False))"
   ]
  },
  {
   "cell_type": "markdown",
   "id": "6b65594f",
   "metadata": {},
   "source": [
    "## TEST: do not run hereafter"
   ]
  },
  {
   "cell_type": "code",
   "execution_count": 5,
   "id": "6bee89d4",
   "metadata": {},
   "outputs": [
    {
     "data": {
      "text/plain": [
       "'{\"fukuoka-garbage_01\": \"Flow of waste disposal in Fukuoka City \\\\nGarbage in Fukuoka City is divided into four categories: burnable garbage, non-combustible garbage, empty bottles and PET bottles, and oversized garbage. \\\\nAlthough it may seem that the amount is less than in other municipalities, the garbage collected is actually further divided into nine categories at each treatment f \\\\n燃えるごみ用 \\\\n69452 \\\\n4 52 \\\\n300135 \\\\n500PIR \\\\n69458 \\\\nPeriodic \\\\ncollection \\\\nBurnable \\\\ngarbage \\\\nPeriodic \\\\ncollection \\\\nNon-burnable \\\\ngarbage \\\\nApplication \\\\nrequired \\\\nBulky \\\\nPeriodic \\\\ncollection \\\\nEmpty Bottle \\\\nPet Bottle \\\\nPower Generation \\\\nand Heat Supply \\\\nIncineration ash \\\\nIncineration at \\\\ndepreciation facilities \\\\nCombustible \\\\n① \\\\nLandfill \\\\nron-combustib \\\\nmaterials \\\\n2 \\\\nCrushing and sorting \\\\nat the Recycling \\\\nIron \\\\n③ \\\\n(Non-combustible) \\\\nAluminium \\\\n④ \\\\nnon-usable items \\\\n(Flammable materials) \\\\n⑤ \\\\nUsable items (furniture, etc.) \\\\nReuse \\\\nRecycle \\\\nSorting and \\\\npackaging at a \\\\nsorting facility \\\\nL \\\\nEmpty bottle \\\\nE \\\\ncolourless \\\\n⑥ \\\\nbrown \\\\n⑦ \\\\nPET bottle \\\\nother \\\\n⑧ \\\\n⑨ \\\\n\", \"fukuoka-garbage_02\": \"Facility. \\\\n\"}'"
      ]
     },
     "execution_count": 5,
     "metadata": {},
     "output_type": "execute_result"
    }
   ],
   "source": [
    "pdf_dir = Path('./pdf')\n",
    "pdf = \"fukuoka-garbage.pdf\"\n",
    "\n",
    "def format_out_doc(resultPages: list, title: str):\n",
    "    out_doc = {}\n",
    "    for page in resultPages:\n",
    "        page_content = \"\"\n",
    "        for line in page.lines:\n",
    "            page_content += line.content + \"\\n\"\n",
    "        page_content = page_content.replace('\\n',' \\n').replace(\":unselected:\", \" \")\n",
    "        out_doc[title + \"_\" +\"{:02}\".format(page.page_number)] = page_content\n",
    "    return out_doc\n",
    "\n",
    "with open(os.path.join(pdf_dir, pdf), \"rb\") as f:        \n",
    "    data_bytes = f.read()\n",
    "    #print(f\"Analyzing {pdf}\")\n",
    "    poller = document_analysis_client.begin_analyze_document(\"prebuilt-layout\", data_bytes)\n",
    "    result = poller.result()\n",
    "    #text = result.content.replace('\\n',' \\n').replace(':unselected:',' ')\n",
    "    title = Path(pdf).stem\n",
    "    text = format_out_doc(result.pages, title)\n",
    "    \n",
    "text = json.dumps(text, ensure_ascii=False)\n",
    "text"
   ]
  },
  {
   "cell_type": "code",
   "execution_count": 6,
   "id": "c15664b0",
   "metadata": {},
   "outputs": [
    {
     "data": {
      "text/plain": [
       "{'fukuoka-garbage_01': 'Flow of waste disposal in Fukuoka City \\nGarbage in Fukuoka City is divided into four categories: burnable garbage, non-combustible garbage, empty bottles and PET bottles, and oversized garbage. \\nAlthough it may seem that the amount is less than in other municipalities, the garbage collected is actually further divided into nine categories at each treatment f \\n燃えるごみ用 \\n69452 \\n4 52 \\n300135 \\n500PIR \\n69458 \\nPeriodic \\ncollection \\nBurnable \\ngarbage \\nPeriodic \\ncollection \\nNon-burnable \\ngarbage \\nApplication \\nrequired \\nBulky \\nPeriodic \\ncollection \\nEmpty Bottle \\nPet Bottle \\nPower Generation \\nand Heat Supply \\nIncineration ash \\nIncineration at \\ndepreciation facilities \\nCombustible \\n① \\nLandfill \\nron-combustib \\nmaterials \\n2 \\nCrushing and sorting \\nat the Recycling \\nIron \\n③ \\n(Non-combustible) \\nAluminium \\n④ \\nnon-usable items \\n(Flammable materials) \\n⑤ \\nUsable items (furniture, etc.) \\nReuse \\nRecycle \\nSorting and \\npackaging at a \\nsorting facility \\nL \\nEmpty bottle \\nE \\ncolourless \\n⑥ \\nbrown \\n⑦ \\nPET bottle \\nother \\n⑧ \\n⑨ \\n',\n",
       " 'fukuoka-garbage_02': 'Facility. \\n'}"
      ]
     },
     "execution_count": 6,
     "metadata": {},
     "output_type": "execute_result"
    }
   ],
   "source": [
    "content_dict = json.loads(text)\n",
    "content_dict\n"
   ]
  },
  {
   "cell_type": "code",
   "execution_count": 7,
   "id": "a2f87e3f",
   "metadata": {},
   "outputs": [
    {
     "name": "stdout",
     "output_type": "stream",
     "text": [
      "Flow of waste disposal in Fukuoka City  Garbage in Fukuoka City is divided into four categories: burnable garbage, non-combustible garbage, empty bottles and PET bottles, and oversized garbage.  Although it may seem that the amount is less than in other municipalities, the garbage collected is actually further divided into nine categories at each treatment f  燃えるごみ用  69452  4 52  300135  500PIR  69458  Periodic  collection  Burnable  garbage  Periodic  collection  Non-burnable  garbage  Application  required  Bulky  Periodic  collection  Empty Bottle  Pet Bottle  Power Generation  and Heat Supply  Incineration ash  Incineration at  depreciation facilities  Combustible  ①  Landfill  ron-combustib  materials  2  Crushing and sorting  at the Recycling  Iron  ③  (Non-combustible)  Aluminium  ④  non-usable items  (Flammable materials)  ⑤  Usable items (furniture, etc.)  Reuse  Recycle  Sorting and  packaging at a  sorting facility  L  Empty bottle  E  colourless  ⑥  brown  ⑦  PET bottle  other  ⑧  ⑨  Facility.  \n"
     ]
    }
   ],
   "source": [
    "def remove_page_format(text: str):\n",
    "    content = json.loads(text)\n",
    "    out_doc = ''\n",
    "    for page in content:\n",
    "        out_doc += content[page]\n",
    "    return out_doc.replace('\\n',' ')\n",
    "\n",
    "print(remove_page_format(text))"
   ]
  }
 ],
 "metadata": {
  "kernelspec": {
   "display_name": "Python (py10)",
   "language": "python",
   "name": "py10"
  },
  "language_info": {
   "codemirror_mode": {
    "name": "ipython",
    "version": 3
   },
   "file_extension": ".py",
   "mimetype": "text/x-python",
   "name": "python",
   "nbconvert_exporter": "python",
   "pygments_lexer": "ipython3",
   "version": "3.10.13"
  }
 },
 "nbformat": 4,
 "nbformat_minor": 5
}
