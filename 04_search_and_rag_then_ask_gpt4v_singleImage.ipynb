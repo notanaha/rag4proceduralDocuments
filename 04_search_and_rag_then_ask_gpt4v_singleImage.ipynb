{
 "cells": [
  {
   "cell_type": "code",
   "execution_count": null,
   "metadata": {},
   "outputs": [],
   "source": [
    "import os, json\n",
    "from IPython.display import Image\n",
    "import openai\n",
    "from azure.storage.blob import BlobServiceClient\n",
    "\n",
    "import utils\n",
    "from dotenv import load_dotenv\n",
    "load_dotenv(\".env\")"
   ]
  },
  {
   "cell_type": "markdown",
   "metadata": {},
   "source": [
    "### SET VARIABLES"
   ]
  },
  {
   "cell_type": "code",
   "execution_count": null,
   "metadata": {},
   "outputs": [],
   "source": [
    "use_azure_active_directory = False  # Set this flag to True if you are using Azure Active Directory\n",
    "if not use_azure_active_directory:\n",
    "    aoai_endpoint = os.environ[\"AZURE_OPENAI_ENDPOINT\"]\n",
    "    aoai_api_key = os.environ[\"AZURE_OPENAI_API_KEY\"]\n",
    "    api_version = os.environ[\"AZURE_OPENAI_API_VERSION\"]\n",
    "\n",
    "    aoai_endpoint_4v = os.environ[\"AZURE_OPENAI_ENDPOINT_4V\"]\n",
    "    aoai_api_key_4v = os.environ[\"AZURE_OPENAI_API_KEY_4V\"]\n",
    "    api_version_4v = os.environ[\"AZURE_OPENAI_API_VERSION_4V\"]\n",
    "\n",
    "    client = openai.AzureOpenAI( \n",
    "        azure_endpoint=aoai_endpoint,\n",
    "        api_key=aoai_api_key,\n",
    "        api_version= api_version\n",
    "    )\n",
    "    \n",
    "embedding_model: str = \"text-embedding-ada-002\" \n",
    "chat_model: str = \"gpt-4-0125\"\n",
    "\n",
    "connection_string = os.environ[\"STORAGE_CONN_STR\"]\n",
    "# Temporarily set as identity access fails\n",
    "storage_sas_token = os.environ[\"STORAGE_SAS_TOKEN\"] \n"
   ]
  },
  {
   "cell_type": "markdown",
   "metadata": {},
   "source": [
    "### PERFORM A HYBRID SEARCH"
   ]
  },
  {
   "cell_type": "code",
   "execution_count": null,
   "metadata": {},
   "outputs": [],
   "source": [
    "import json\n",
    "# Semantic Hybrid Search\n",
    "#query = \"What is the disposal of PET bottle?\"  \n",
    "query = \"ご契約者が冬の円貨定期預金金利優遇キャンペーンを知る機会は何になりますか\"\n",
    "#query = \"受電で対応できる来店予約は何ですか\"\n",
    "\n",
    "answer_context = []\n",
    "results = utils.search_index(query, client, embedding_model)\n",
    "\n",
    "for result in results:\n",
    "    titles_and_content = {}\n",
    "    titles_and_content[\"title\"] = result[\"title\"]\n",
    "    titles_and_content[\"content\"] = result[\"content\"]\n",
    "    #titles_and_content[\"reranking_score\"] = result[\"@search.reranker_score\"]\n",
    "    answer_context.append(titles_and_content)\n",
    "\n",
    "#print(json.dumps(answer_context, indent=4, ensure_ascii=False))"
   ]
  },
  {
   "cell_type": "markdown",
   "metadata": {},
   "source": [
    "### RAG Query to GPT-4-turbo"
   ]
  },
  {
   "cell_type": "code",
   "execution_count": null,
   "metadata": {},
   "outputs": [],
   "source": [
    "with open(\"./system_message_02.txt\", \"r\", encoding = 'utf-8') as f:\n",
    "    system_message = f.read()"
   ]
  },
  {
   "cell_type": "code",
   "execution_count": null,
   "metadata": {},
   "outputs": [],
   "source": [
    "messages = []\n",
    "messages.append({\"role\": \"system\",\"content\": system_message})\n",
    "\n",
    "content = {}\n",
    "content[\"question\"] = query\n",
    "content[\"context\"] = answer_context\n",
    "messages.append({\"role\": \"user\", \"content\": str(content)})\n",
    "\n",
    "#print(json.dumps(messages, indent=4, ensure_ascii=False))"
   ]
  },
  {
   "cell_type": "code",
   "execution_count": null,
   "metadata": {},
   "outputs": [],
   "source": [
    "response = utils.gpt4_turbo_query(messages, client, chat_model)\n",
    "answer = response.choices[0].message.content\n",
    "\n",
    "answer = json.loads(answer)\n",
    "print(answer)"
   ]
  },
  {
   "cell_type": "code",
   "execution_count": null,
   "metadata": {},
   "outputs": [],
   "source": [
    "print(answer[\"answer\"])"
   ]
  },
  {
   "cell_type": "markdown",
   "metadata": {},
   "source": [
    "### Get URL of the 'title' image"
   ]
  },
  {
   "cell_type": "code",
   "execution_count": null,
   "metadata": {},
   "outputs": [],
   "source": [
    "container_name = \"manual-test\"\n",
    "blob_service_client = BlobServiceClient.from_connection_string(connection_string)\n",
    "blob_name = answer[\"page\"]\n",
    "split_word = \"_\"\n",
    "\n",
    "image_urls = utils.list_blobs_titles_and_urls_ns(blob_service_client, container_name, blob_name, split_word)\n",
    "image_urls\n"
   ]
  },
  {
   "cell_type": "markdown",
   "metadata": {},
   "source": [
    "## Sending a new message to GPT-4v"
   ]
  },
  {
   "cell_type": "markdown",
   "metadata": {},
   "source": [
    "### Construct a new message with a single image"
   ]
  },
  {
   "cell_type": "code",
   "execution_count": null,
   "metadata": {},
   "outputs": [],
   "source": [
    "with open(\"./system_message_01.txt\", \"r\", encoding = 'utf-8') as f:\n",
    "    system_message = f.read()"
   ]
  },
  {
   "cell_type": "code",
   "execution_count": null,
   "metadata": {},
   "outputs": [],
   "source": [
    "messages = []\n",
    "messages.append({\"role\": \"system\",\"content\":[{\"type\": \"text\", \"text\": system_message}]})\n",
    "\n",
    "content = []\n",
    "content.append({\"type\": \"text\", \"text\": \"query: \" + query})\n",
    "content.append({\"type\": \"text\", \"text\":\"answer from gpt-4: \" + answer[\"answer\"]})\n",
    "\n",
    "for url in image_urls:    # pick up the most relevant image\n",
    "    storagepath = url['title']\n",
    "    storagepath_stem = os.path.splitext(storagepath)[0]\n",
    "    if not (storagepath_stem[-3] == split_word and storagepath_stem[-2:].isdigit()):\n",
    "        storagepath_stem += split_word + '01' # storagepath doesn't have a number suffix\n",
    "    if storagepath_stem == answer['page']:\n",
    "        content.append({\"type\": \"text\", \"text\": storagepath})\n",
    "        content.append({\"type\": \"image_url\", \"image_url\": url['url']+storage_sas_token})\n",
    "        break\n",
    "\n",
    "messages.append({\"role\": \"user\",\"content\":content})"
   ]
  },
  {
   "cell_type": "code",
   "execution_count": null,
   "metadata": {},
   "outputs": [],
   "source": [
    "messages"
   ]
  },
  {
   "cell_type": "markdown",
   "metadata": {},
   "source": [
    "### Ask gpt-4v"
   ]
  },
  {
   "cell_type": "code",
   "execution_count": null,
   "metadata": {},
   "outputs": [],
   "source": [
    "response = utils.gpt4v_query(messages, aoai_endpoint_4v, aoai_api_key_4v, api_version_4v)\n",
    "#answer = response.json()[\"choices\"][0][\"message\"][\"content\"]\n",
    "answer = response.json()[\"choices\"][0][\"enhancements\"][\"grounding\"][\"lines\"][0][\"text\"]\n",
    "print(answer)"
   ]
  },
  {
   "cell_type": "code",
   "execution_count": null,
   "metadata": {},
   "outputs": [],
   "source": [
    "response.json()[\"choices\"][0]"
   ]
  },
  {
   "cell_type": "markdown",
   "metadata": {},
   "source": [
    "### Download and show the image"
   ]
  },
  {
   "cell_type": "code",
   "execution_count": null,
   "metadata": {},
   "outputs": [],
   "source": [
    "utils.list_blobs_download(blob_service_client, container_name, storagepath)\n",
    "display(Image(filename=storagepath))"
   ]
  },
  {
   "cell_type": "markdown",
   "metadata": {},
   "source": [
    "## Maintain the massage"
   ]
  },
  {
   "cell_type": "code",
   "execution_count": null,
   "metadata": {},
   "outputs": [],
   "source": [
    "utils.append_conversation_history(messages, response, role=\"assistant\")\n",
    "print(messages)"
   ]
  },
  {
   "cell_type": "markdown",
   "metadata": {},
   "source": [
    "### Send the consecutive query"
   ]
  },
  {
   "cell_type": "code",
   "execution_count": null,
   "metadata": {},
   "outputs": [],
   "source": [
    "messages.append({\"role\": \"user\",\"content\":[\n",
    "    {\"type\": \"text\", \"text\": \"ponta ポイントサービスについて教えてください。\"}, \n",
    "]})\n",
    "response = utils.gpt4v_query(messages, aoai_endpoint, aoai_api_key, api_version)\n",
    "print(response.json()[\"choices\"][0][\"message\"][\"content\"])"
   ]
  },
  {
   "cell_type": "markdown",
   "metadata": {},
   "source": [
    "## Backup script"
   ]
  },
  {
   "cell_type": "markdown",
   "metadata": {},
   "source": [
    "Download all the images that include a page relevant to the questions"
   ]
  },
  {
   "cell_type": "code",
   "execution_count": null,
   "metadata": {},
   "outputs": [],
   "source": [
    "for url in image_urls:\n",
    "    utils.list_blobs_download(blob_service_client, container_name, url['title'])\n",
    "    display(Image(filename=url['title']))"
   ]
  },
  {
   "cell_type": "markdown",
   "metadata": {},
   "source": [
    "Download Images"
   ]
  },
  {
   "cell_type": "code",
   "execution_count": null,
   "metadata": {},
   "outputs": [],
   "source": [
    "utils.list_blobs_download(blob_service_client, container_name, blob_name, split_word)"
   ]
  },
  {
   "cell_type": "markdown",
   "metadata": {},
   "source": [
    "List the urls of the images"
   ]
  },
  {
   "cell_type": "code",
   "execution_count": null,
   "metadata": {},
   "outputs": [],
   "source": [
    "image_urls = utils.list_blobs_urls(blob_service_client, container_name, blob_name, split_word)\n",
    "print(image_urls)"
   ]
  },
  {
   "cell_type": "markdown",
   "metadata": {},
   "source": [
    "List the urls relevant to the query"
   ]
  },
  {
   "cell_type": "code",
   "execution_count": null,
   "metadata": {},
   "outputs": [],
   "source": [
    "image_urls_list = []\n",
    "for result in results:\n",
    "    image_urls_list += utils.list_blobs_urls(blob_service_client, container_name, result['title'], split_word)\n",
    "    #image_urls_list.append(image_urls)\n",
    "\n",
    "print(image_urls_list)"
   ]
  },
  {
   "cell_type": "markdown",
   "metadata": {},
   "source": [
    "### END OF SCRIPT"
   ]
  }
 ],
 "metadata": {
  "kernelspec": {
   "display_name": "Python (py10)",
   "language": "python",
   "name": "py10"
  },
  "language_info": {
   "codemirror_mode": {
    "name": "ipython",
    "version": 3
   },
   "file_extension": ".py",
   "mimetype": "text/x-python",
   "name": "python",
   "nbconvert_exporter": "python",
   "pygments_lexer": "ipython3",
   "version": "3.10.13"
  }
 },
 "nbformat": 4,
 "nbformat_minor": 2
}
