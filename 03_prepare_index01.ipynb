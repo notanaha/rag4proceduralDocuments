{
 "cells": [
  {
   "cell_type": "code",
   "execution_count": 1,
   "metadata": {},
   "outputs": [
    {
     "data": {
      "text/plain": [
       "True"
      ]
     },
     "execution_count": 1,
     "metadata": {},
     "output_type": "execute_result"
    }
   ],
   "source": [
    "import os, json\n",
    "from pathlib import Path\n",
    "import openai\n",
    "from tenacity import retry, stop_after_attempt, wait_random_exponential\n",
    "from azure.core.credentials import AzureKeyCredential\n",
    "from azure.search.documents import SearchClient\n",
    "from azure.search.documents.indexes import SearchIndexClient\n",
    "from azure.search.documents.models import (\n",
    "    QueryAnswerType,\n",
    "    QueryCaptionType,\n",
    "    QueryCaptionResult,\n",
    "    QueryAnswerResult,\n",
    "    SemanticErrorMode,\n",
    "    SemanticErrorReason,\n",
    "    SemanticSearchResultsType,\n",
    "    QueryType,\n",
    "    VectorizedQuery,\n",
    "    VectorQuery,\n",
    "    VectorFilterMode,    \n",
    ")\n",
    "from azure.search.documents.indexes.models import (\n",
    "    ExhaustiveKnnAlgorithmConfiguration,\n",
    "    ExhaustiveKnnParameters,\n",
    "    HnswParameters,\n",
    "    HnswAlgorithmConfiguration,\n",
    "    SearchableField,\n",
    "    SearchField,\n",
    "    SearchFieldDataType,\n",
    "    SearchIndex,\n",
    "    SemanticConfiguration,\n",
    "    SemanticField,\n",
    "    SemanticPrioritizedFields,\n",
    "    SemanticSearch,\n",
    "    SimpleField,\n",
    "    VectorSearch,\n",
    "    VectorSearchAlgorithmKind,\n",
    "    VectorSearchAlgorithmMetric,\n",
    "    VectorSearchProfile\n",
    ")\n",
    "import utils\n",
    "from dotenv import load_dotenv\n",
    "load_dotenv(\".env\")"
   ]
  },
  {
   "cell_type": "markdown",
   "metadata": {},
   "source": [
    "### SET VARIABLES"
   ]
  },
  {
   "cell_type": "code",
   "execution_count": 2,
   "metadata": {},
   "outputs": [],
   "source": [
    "use_azure_active_directory = False  # Set this flag to True if you are using Azure Active Directory\n",
    "if not use_azure_active_directory:\n",
    "    aoai_endpoint = os.environ[\"AZURE_OPENAI_ENDPOINT\"]\n",
    "    aoai_api_key = os.environ[\"AZURE_OPENAI_API_KEY\"]\n",
    "\n",
    "    client = openai.AzureOpenAI(\n",
    "        azure_endpoint=aoai_endpoint,\n",
    "        api_key=aoai_api_key,\n",
    "        api_version=\"2023-12-01-preview\"\n",
    "    )\n",
    "\n",
    "    embedding_model: str = \"text-embedding-ada-002\" \n",
    "\n",
    "    service_endpoint = os.environ[\"SEARCH_ENDPOINT\"] \n",
    "    index_name = os.environ[\"SEARCH_INDEX_NAME\"]\n",
    "    key = os.environ[\"SEARCH_KEY\"]\n",
    "    credential = AzureKeyCredential(key)    \n"
   ]
  },
  {
   "cell_type": "markdown",
   "metadata": {},
   "source": [
    "### CREATE A JSON INPUT FILE FOR EMBEDDINGS"
   ]
  },
  {
   "cell_type": "markdown",
   "metadata": {},
   "source": [
    "\n",
    "├── pdf_dir  \n",
    "│&emsp; &emsp; ├── text_dir  \n",
    "│&emsp; &emsp; └── json_dir  \n",
    "│&emsp; &emsp; &emsp; &emsp; ├── docVectors.json(output1)  \n",
    "│&emsp; &emsp; &emsp; &emsp; └── docVectors2.json(output2)  \n",
    "this script  "
   ]
  },
  {
   "cell_type": "code",
   "execution_count": 3,
   "metadata": {},
   "outputs": [],
   "source": [
    "text_dir = \"./pdf/text\"\n",
    "json_dir = \"./pdf/json\"\n",
    "json_file = \"docVectors.json\"\n",
    "category = \"manual\"\n",
    "embedded_file = \"docVectors2.json\""
   ]
  },
  {
   "cell_type": "markdown",
   "metadata": {},
   "source": [
    "### Create a JSON file for Text input"
   ]
  },
  {
   "cell_type": "code",
   "execution_count": 4,
   "metadata": {},
   "outputs": [],
   "source": [
    "file_contents = []\n",
    "\n",
    "for i,fname in enumerate(next(os.walk(text_dir))[2]):\n",
    "    fpath = Path(os.path.join(text_dir, fname))\n",
    "    with open(fpath, \"rb\") as f:        \n",
    "        data = f.read().decode('utf-8')\n",
    "\n",
    "    file_contents.append(\n",
    "        {\n",
    "            \"id\": str(i),\n",
    "            \"title\": fpath.stem,\n",
    "            \"content\": data,\n",
    "            \"category\": category\n",
    "        }\n",
    "    )\n",
    "\n",
    "os.makedirs(json_dir, exist_ok=True)\n",
    "with open(os.path.join(json_dir, json_file), \"w\", encoding='utf-8') as f:\n",
    "    json.dump(file_contents, f, ensure_ascii=False)"
   ]
  },
  {
   "cell_type": "markdown",
   "metadata": {},
   "source": [
    "### Create a JSON file for Text and Embeddings input"
   ]
  },
  {
   "cell_type": "code",
   "execution_count": 5,
   "metadata": {},
   "outputs": [],
   "source": [
    "def remove_page_format(text: str, max_length: int = 8000) -> str:\n",
    "    content = json.loads(text)\n",
    "    content_str = json.dumps(content, ensure_ascii=False)\n",
    "\n",
    "    while len(content_str) > max_length:\n",
    "        k, v = content.popitem()\n",
    "        print(f\"Removed page {k}\")\n",
    "        content_str = json.dumps(content, ensure_ascii=False)\n",
    "        print(f\"New length: {len(content_str)}\")\n",
    "        if len(content) == 0:\n",
    "            print(\"Content is empty\")\n",
    "            exit(1)\n",
    "\n",
    "    out_doc = ''\n",
    "    for page in content:\n",
    "        out_doc += content[page]\n",
    "\n",
    "    return out_doc.replace('\\n',' ')"
   ]
  },
  {
   "cell_type": "code",
   "execution_count": 6,
   "metadata": {},
   "outputs": [
    {
     "name": "stdout",
     "output_type": "stream",
     "text": [
      "Removed page 新型金銭信託研修資料_20\n",
      "New length: 22562\n",
      "Removed page 新型金銭信託研修資料_19\n",
      "New length: 22123\n",
      "Removed page 新型金銭信託研修資料_18\n",
      "New length: 21437\n",
      "Removed page 新型金銭信託研修資料_17\n",
      "New length: 19622\n",
      "Removed page 新型金銭信託研修資料_16\n",
      "New length: 17766\n",
      "Removed page 新型金銭信託研修資料_15\n",
      "New length: 16967\n",
      "Removed page 新型金銭信託研修資料_14\n",
      "New length: 15858\n",
      "Removed page 新型金銭信託研修資料_13\n",
      "New length: 14237\n",
      "Removed page 新型金銭信託研修資料_12\n",
      "New length: 12254\n",
      "Removed page 新型金銭信託研修資料_11\n",
      "New length: 11537\n",
      "Removed page 新型金銭信託研修資料_10\n",
      "New length: 10105\n",
      "Removed page 新型金銭信託研修資料_09\n",
      "New length: 9180\n",
      "Removed page 新型金銭信託研修資料_08\n",
      "New length: 7152\n"
     ]
    }
   ],
   "source": [
    "# Generate Document Embeddings using OpenAI Ada 002\n",
    "# Read the text-sample.json\n",
    "with open(os.path.join(json_dir, json_file), 'r', encoding='utf-8') as file:\n",
    "    input_data = json.load(file)\n",
    "\n",
    "# Generate embeddings for title and content fields \n",
    "for item in input_data:\n",
    "    title = item['title']\n",
    "    content = item['content']\n",
    "    title_embeddings = utils.generate_embeddings(title, embedding_model, client)\n",
    "    content_embeddings = utils.generate_embeddings(remove_page_format(content), embedding_model, client)\n",
    "    item['titleVector'] = title_embeddings\n",
    "    item['contentVector'] = content_embeddings\n",
    "\n",
    "# Output embeddings to docVectors.json file\n",
    "with open(os.path.join(json_dir, embedded_file), \"w\", encoding='utf-8') as f:\n",
    "    json.dump(input_data, f, ensure_ascii=False)"
   ]
  },
  {
   "cell_type": "markdown",
   "metadata": {},
   "source": [
    "### DEFINE INDEX FIELDS"
   ]
  },
  {
   "cell_type": "code",
   "execution_count": 7,
   "metadata": {},
   "outputs": [],
   "source": [
    "# Create a search index\n",
    "index_client = SearchIndexClient(\n",
    "    endpoint=service_endpoint, credential=credential)\n",
    "fields = [\n",
    "    SimpleField(name=\"id\", type=SearchFieldDataType.String, key=True, sortable=True, filterable=True, facetable=True),\n",
    "    SearchableField(name=\"title\", type=SearchFieldDataType.String, analyzer_name=\"ja.microsoft\"),\n",
    "    SearchableField(name=\"content\", type=SearchFieldDataType.String, analyzer_name=\"ja.microsoft\"),\n",
    "    SearchableField(name=\"category\", type=SearchFieldDataType.String, analyzer_name=\"ja.microsoft\",\n",
    "                    filterable=True),\n",
    "    SearchField(name=\"titleVector\", type=SearchFieldDataType.Collection(SearchFieldDataType.Single),\n",
    "                searchable=True, vector_search_dimensions=1536, vector_search_profile_name=\"myHnswProfile\"),\n",
    "    SearchField(name=\"contentVector\", type=SearchFieldDataType.Collection(SearchFieldDataType.Single),\n",
    "                searchable=True, vector_search_dimensions=1536, vector_search_profile_name=\"myHnswProfile\"),\n",
    "]\n",
    "\n",
    "# Configure the vector search configuration  \n",
    "vector_search = VectorSearch(\n",
    "    algorithms=[\n",
    "        HnswAlgorithmConfiguration(\n",
    "            name=\"myHnsw\",\n",
    "            kind=VectorSearchAlgorithmKind.HNSW,\n",
    "            parameters=HnswParameters(\n",
    "                m=4,\n",
    "                ef_construction=400,\n",
    "                ef_search=500,\n",
    "                metric=VectorSearchAlgorithmMetric.COSINE\n",
    "            )\n",
    "        ),\n",
    "        ExhaustiveKnnAlgorithmConfiguration(\n",
    "            name=\"myExhaustiveKnn\",\n",
    "            kind=VectorSearchAlgorithmKind.EXHAUSTIVE_KNN,\n",
    "            parameters=ExhaustiveKnnParameters(\n",
    "                metric=VectorSearchAlgorithmMetric.COSINE\n",
    "            )\n",
    "        )\n",
    "    ],\n",
    "    profiles=[\n",
    "        VectorSearchProfile(\n",
    "            name=\"myHnswProfile\",\n",
    "            algorithm_configuration_name=\"myHnsw\",\n",
    "        ),\n",
    "        VectorSearchProfile(\n",
    "            name=\"myExhaustiveKnnProfile\",\n",
    "            algorithm_configuration_name=\"myExhaustiveKnn\",\n",
    "        )\n",
    "    ]\n",
    ")\n",
    "\n",
    "semantic_config = SemanticConfiguration(\n",
    "    name=\"default\",\n",
    "    prioritized_fields=SemanticPrioritizedFields(\n",
    "        title_field=SemanticField(field_name=\"title\"),\n",
    "        keywords_fields=[SemanticField(field_name=\"category\")],\n",
    "        content_fields=[SemanticField(field_name=\"content\")]\n",
    "    )\n",
    ")"
   ]
  },
  {
   "cell_type": "markdown",
   "metadata": {},
   "source": [
    "### CREATE AN INDEX"
   ]
  },
  {
   "cell_type": "code",
   "execution_count": 8,
   "metadata": {},
   "outputs": [
    {
     "name": "stdout",
     "output_type": "stream",
     "text": [
      " manual-test-index created\n"
     ]
    }
   ],
   "source": [
    "# Create the semantic settings with the configuration\n",
    "semantic_search = SemanticSearch(configurations=[semantic_config])\n",
    "\n",
    "# Create the search index with the semantic settings\n",
    "index = SearchIndex(name=index_name, fields=fields,\n",
    "                    vector_search=vector_search, semantic_search=semantic_search)\n",
    "result = index_client.create_or_update_index(index)\n",
    "print(f' {result.name} created')"
   ]
  },
  {
   "cell_type": "markdown",
   "metadata": {},
   "source": [
    "### INSERT TEXT AND VECTOR DATA"
   ]
  },
  {
   "cell_type": "code",
   "execution_count": 9,
   "metadata": {},
   "outputs": [
    {
     "name": "stdout",
     "output_type": "stream",
     "text": [
      "Uploaded 20 documents\n"
     ]
    }
   ],
   "source": [
    "# Upload some documents to the index\n",
    "with open(os.path.join(json_dir, embedded_file), 'r', encoding='utf-8') as file:  \n",
    "    documents = json.load(file)\n",
    "    \n",
    "search_client = SearchClient(endpoint=service_endpoint, index_name=index_name, credential=credential)\n",
    "result = search_client.upload_documents(documents)\n",
    "print(f\"Uploaded {len(documents)} documents\") "
   ]
  },
  {
   "cell_type": "markdown",
   "metadata": {},
   "source": [
    "### PERFORM A HYBRID SEARCH"
   ]
  },
  {
   "cell_type": "code",
   "execution_count": 10,
   "metadata": {},
   "outputs": [
    {
     "name": "stdout",
     "output_type": "stream",
     "text": [
      "Title: 手数料FAQ\n",
      "Reranker Score: 2.417011260986328\n",
      "Content: {\"手数料FAQ_01\": \"メインバンクプラス \\n手数料優遇サービス \\nポイントサービス \\n優遇內容照会 \\n資産管理レポート \\n改定 \\n普通預金·スーパー普通預金 >メインバンクプラス>メインバンクプラス ※ よくある質問はこちら \\n※「手数料優選サービス」は2021年6月(2021年6月30日判定、7月20日~8月19日適用分)より改定 \\n※「ポイントサービス」は2021年6月13日より申込受付開始(初回2021年6月30日判定、7月末ポイント反映) \\n案内方針 \\n<手数料優遇> ※「手数料がかかった(かかると表示された)」という申出があった場合は、必須案内項目をすべて案内 \\n· 【インターネットバンキングのご利用·判定条件·判定日·適用期間·S普通預金のみ対象】について、 \\n案内していない項目がある場合は、最後に下記を案内 \\n⇒「その他、優遇の条件や優遇適用の流れについては、当行HPやインターネットバンキングの \\n『メインバンクプラス』という項目からご確認ください。」 \\n<Pontaポイントサービス> \\n·「インターネットバンキングからポイントサービスの申込が必要」である旨を必ず案内 \\n·dスマートバンクのポイントサービスとの併用は不可 \\n※ dスマートバンクのポイントサービスを契約している状態で、Pontaポイントサービスの利用登録を行うと、 \\n自動的にdスマートバンクのポイントサービスは解除される \\n·その他内容については、聞かれたことに回答のうえ、最後に下記を案内 \\n⇒「ポイントサービスについては、当行HPやインターネットバンキングのPontaポイントの項目からご確認ください。」 \\n対象者 \\n優遇内容·判定条件 \\n優遇サービスの内容により、判定条件がそれぞれ異なる \\n手数料優遇 \\nサービス \\nポイント \\nサービス \\n判定の考え方 \\n付加サービス \\n利用条件 \\nスーパー普通預金を保有している、個人·個人事業主 \\n※ 屋号付個人·非居住者·成年後見人制度口座の場合の \\n1 手数料優遇サービス(「当行ATM利用手数料」「提携コンビニ利用手数料」「ダイレクト他行宛振込手数料」の優遇) \\n判定条件 \\n※ 当行同一名義の全口座 \\nで判定9 \\nインターネットバンキングのご利用の \\n※ 月末日基準(土日祝含む)で70歳以上の方は不要 \\n+ \\n+ \\n· Eco通帳をご利用の方 \\n※ Eco通帳契約の確認方法! \\n·1回の受取金額が10万円以上かつ、取引内容(通帳 \\n摘要欄)に漢字2文字で「給料」「貸与」「年金」いずれ \\nかの記載の取引がある方 \\n※ 年金は判定基準月および基準月の前月に1回あたり \\n10万円以上の受取があれば対象(具体例0) \\n※ 給与·年金についてのよくある質問はこちらロ \\n※ 給与·年金の明細表示例はこちらロ \\n優遇內容 \\n三菱UFJ銀行ATM \\n利用手数料 \\n期間中何回でも無料 \\n期間中何回でも無料 \\n提携コンビニATMO \\n利用手数料 \\n期間中1回まで無料 \\n期間中2回まで無料 \\n三菱UFJダイレクトO \\n他行宛振込手数料 \\n期間中1回まで無料 \\n期間中3回まで無料 \\n判定日 \\n月末最終営業日に判定 \\n適用期間 \\n判定日の翌月20日から翌々月19日まで \\n優遇対象 \\n優遇サービスを受けられる口座はスーパー普通預金のみ \\n【高齢者·障がいをお持ちの方への対応】※ 必要に応じて案内 \\n·月末日基準(土日祝含む)で70歳以上の方は、インターネットバンキングのご利用のおよび判定条件を満たしていなくても、当行 \\nATMの時間外手数料が何回でも無料 \\n· 障がいをお持ちの方は、窓口で申告手続することでインターネットバンキングのご利用 が不要となり、お取引状況に関わらず、 \\n10万円以上の「給料」受取がある場合と同様の優遇が適用される措置あり \\n※ 詳細はSVへエスカレ \\n2 ポイントサービス(お取引に応じて毎月Pontaポイントのが付与されるサービス) \\n※ dスマートバンクのポイントサービスとの併用不可! \\nポイント加算条件 \\n·三菱UFJダイレクトからポイントサービスへ申込が必要(2021年6月13日より受付開始) \\n※ 当行同一名義の \\n※ 画面見本はこちらロ (申込時にはPonta会員IDOが必要) \\n全口座で判定! \\n·月中に以下の取引があること \\n対象取引 \\nポイント \\n加算数 \\n条件詳細 \\n·ダイレクトにログイン \\n5ポイント/月 \\n三菱UFJダイレクトにログインで対象 \\n※ 複数回ログインしてもポイントは不変 \\n· \\n口座振替 \\n当行デビットの利用の \\nクレジットカードの引落 \\n10ポイント/月 \\n当行が定める口座振替の引き落としのがあれば対象 \\n※ 対象取引が複数あってもポイントは不変 \\n·投信つみたて(1万円ごと) \\n·外貨つみたて(1万円ごと) \\n30ポイント \\n(上限300P/月) \\n※ 本条件の詳細は運用商品Grロ へ誘導 \\n投信つみたて(継続購入プラン)、外貨つみたて(外貨 \\n貯蓄預金「継続預入プラン」)で行われた自動振替金 \\n額、合計1万円ごとに対象 \\n※ ポイント加算上限について! \\n· 運用商品残高が50万円以上 \\n50ポイント/月 \\n※ 本条件の詳細は運用商品Grロ へ誘導 \\n外貨預金、投資信託(NISA含む)、公共債、金融商品 \\n仲介、MUFGファンドラップの運用商品残高が合計50万 \\n円以上で対象(保険およびiDecoは対象外) \\n·住宅ローンのご利用 \\n50ポイント/月 \\n当行住宅ローン、住宅金融支援機構の「フラット35 \\n(買取型)」「フラット35(保証型)」、auじぶん銀行 \\n専用三菱UFJネット住宅ローンのお借入残高があれば対 \\n象 \\n※ 借入種類によっては対象外の場合あり(詳細は口座 \\n店へ誘導) \\n判定日 \\n月末最終営業日に判定 \\n※ただし、「ダイレクトへのログイン」「口座振替」「当行デビットの利用!」は銀行休業日含む月末日基準で判定 \\nポイント加算日 \\n(反映日) \\n翌月末頃にPontaポイントのを付与 \\n※ 当行で直近に加算したPontaポイント(ひと月分) はダイレクト上で確認可能 \\n※ 画面見本はこちらロ (3ポイント確認を参照) \\n※ 過去に加算されたポイントや、獲得ポイントの内訳、当行以外で獲得したポイント等はPontaWebOにて確認可能 \\n(ダイレクト上からリンク有) \\n【その他】 \\n·ポイントサービスの申込手続は1回のみで以後不要 \\n·PontaIDは1つのみ登録可能(複数登録不可) \\n·登録済のPontaIDの変更方法はこちら口 (2ポイントサービスの再申込を参照) \\n·ポイントサービスの解除方法はこちらロ \\n(4ポイントサービスの解除を参照) \\n月末最終窓口営業日基準のお取引状況によって、各種優遇が適用される \\n手数料優遇サービス \\n6月 \\n7月 \\n8月 \\n判定例 \\n判定日:6月末最終営業日 \\n·スーパー普通預金契約あり \\n·インターネットバンキングのご利用あり \\n·Eco通帳利用もしくは給与または年金受取あり \\n優遇適用期間 \\n2021年7月20日~8月19日 \\nPontaポイントサービス \\n判定例 \\n6月 \\n7月 \\n8月 \\n判定日:6月末最終営業日 \\nスーパー普通預金契約あり \\n·ダイレクトよりPontaポイントサービスの申込あり \\n·当行が定める所定の取引あり \\nポイント付与時期 \\n2021年7月末頃 \\n上記優遇のほか、インターネットバンキングで現在の資産状況、毎月の家計収支、入出金明細等が確認できる \\n「資産管理レポート(メインバンク総合ステートメント)」の利用が可能(サービスの詳細は「資産管理レポート」『参照) \\n口座保有数制限やダイレクト契約要否については、スーパー普通預金> 商品概要に を参照 \\n【その他】 \\n·2018年2月28日までの申込分をもって当初優遇期間 のサービスを廃止 \\n·2021年5月31日の判定分(6月19日~7月20日適用分)をもって、預金残高等による判定およびステージ制を廃止(改定前の優遇内容はこちら『) \\n\"}\n",
      "Category: manual\n",
      "Caption: 」 \\n対象者 \\n優遇内容·判定条件 \\n優遇サービスの内容により、判定条件がそれぞれ異なる \\n手数料優遇 \\nサービス \\nポイント \\nサービス \\n判定の考え方 \\n付加サービス \\n利用条件 \\nスーパー普通預金を保有している、個人·個人事業主 \\n※ 屋号付個人·非居住者·成年後見人制度口座の場合の \\n1 手数料優遇サービス(「当行ATM利用手数料」「提携コンビニ利用手数料」「ダイレクト他行宛振込手数料」の優遇) \\n判定条件 \\n※ 当行同一名義の全口座 \\nで判定9 \\nインターネットバンキングのご利用の \\n※ 月末日基準(土日祝含む)で70歳以上の方は不要 \\n+ \\n+ \\n· Eco通帳をご利用の方 \\n※ Eco通帳契約の確認方法! \\n·1回の受取金額が1…\n",
      "\n",
      "Title: 口座開設ガイド\n",
      "Reranker Score: 1.8410309553146362\n",
      "Content: {\"口座開設ガイド_01\": \"〔■個人名義のみスーパー普通預金(メインバン \\nグ【よくある質問】 \\n·Eco通帳とは何か。 \\n·Eco通帳と紙通帳で \\n迷われている場合は… \\n·窓口での手続き所要時間は? \\n·自宅(またはお勤め先)の \\n近くの支店は○○支店で \\n良いか。 \\n(○○支店で作れますか) \\n【手続チャネルごとの比較】 \\n【来店予約ヘルプ】 \\n*紙通帳利用手数料については、 \\n『〔7〕 K手数料』参照 \\n√ \\n座開設(スクリプト)<来店予約プラスワント \\nまず象口座の開設でございますね。 \\nお電話いただいているお客さま個人の口座でしょうか 。※ \\n親が子どもの口座を作れるか。 \\n○個人(本人/代理人) \\n○子ども(15歳以上 18歳未満)※18歳以上の子ども \\n○子ども(15歳未満) \\n○個人事業者 \\nC \\n法人 \\nC \\n任意団体 \\n完了 \\n『申し訳ございませんが、18歳以上の方は、 \\nご本人さまのお手続きが必要でございます。』 \\nとお伝えし、個人(本人/代理人)のラジオボタンを選択。 \\n外国籍のお客さまの場合、スマート口座開設での手続は不可。 \\n■個人の手続 \\n【口座開設時の本人確認書類】 \\nお客さまのお名前·現在お住いの住所·生年月日が確認できる \\nもの。 \\n● \\n人格確認 \\nニーズの把握 \\n● \\n本人確認書類 \\n● \\nチャネル提案 \\n● \\n税務上の居住地の確 \\nできるだけお客さまのお手元にお持ちのものからご持参いただ \\nく。 \\n手続方法 \\n1つで受付可能 \\nクロージング \\n2つで受付可能 \\n· 運転免許証 \\n·個人番号カード \\n·パスポート(2020年2月3日以前に申請 \\nされた日本政府発行のもの) \\n·在留カード/特別永住者証明書 \\n· 各種健康保険証 \\n· 年金手帳(国民 · 厚生) \\n·所持人記入欄のない新型パスポート \\n(2020年2月4日以降に申請された日本政 \\n府発行のもの) \\n· (20歳未満の場合)市区町村出生届出済 \\nの証明印がある母子健康手帳 \\n·住民票 \\n表以外の本人確認書類については、『_〔6〕B 取引時確認』参照。 \\n*本人確認書類が旧住所の場合の補足資料は『_〔6〕FAQ』参照。 \\n*パスポートに記載の住所が旧住所の場合は『〔6〕FAQ』参照。 \\n\", \"口座開設ガイド_02\": \"【名義人(子)が、日本以外に所得税の納税義務がある場合/米国籍の場合】 \\n通常の案内とあわせて、外国納税者番号を確認のうえご来店いただくよう案内。 \\n※国籍を問診することは厳禁(お客さまより申出があった場合のみ注意すること) \\n電話での来店予約を案内。『〔37〕 B 予約受付』参照。 \\n口座開設後、紙通帳とEco通帳の切替えはいつでも可能ですので、 \\n詳細は窓口でご確認ください。 \\n「記入のご協力をお願いしております。」と回答。 \\n新規口座開設の場合、「在留カードが交付されているお客さま」は \\n必ず在留カードをお持ちいただく。 \\n*在留期限が近づいていると申出があった場合は、更新後にご来店いただく。 \\n*上記以外(特別永住者等)のお客さまは、通常どおりの本人確認書類で可。 \\n個人番号(マイナンバー)届出は任意のため、 \\n番号確認書類+本人確認書類(『〔6〕C番号確認』)がなくても手続は可能。 \\n*法令により、口座にマイナンバーを紐付けて管理する義務が \\n銀行に課せられているため、届出のご協力をお願いしているもの。 \\n『受付は日本語のみの対応となります。』と案内。 \\n(本人が日本語を話せない/日本語によるコミュニケーションが難しい/ \\n通訳が付き添いをしたいなどの申出があれば、追加で案内) \\n『口座開設時のご説明、開設後のお取引は日本語での応対が主になります。 \\nご本人さまとの直接のコミュニケーションが難しい場合は、 \\n今後のお取引においてもご不便をおかけする可能性があるため、 \\nお断りとなる場合がございます。ご了承ください。』 \\n·ご利用は任意。 \\n·当行HPで『ホームページ事前受付』と検索していただく。 \\n·入力方法で不明な点があれば、0120-860-777 (IVR7) へ架け直し。 \\n(HP事前受付の更なる詳細は、FAQ参照。) \\n·病気や怪我等により、直筆による申込書作成が困難 \\n·至急の口座開設を強く希望し、やむを得ない理由がある 等、 \\n親権者の代筆による申込の強い要望がある場合は、 \\n口座開設希望店/営業課(口一役席)へ転送。 \\n屋号が確認できる書類とは、下記のいずれか \\n·国税、地方税の領収書、納税証明書 \\n·税務署収受印付の確定申告書 \\n·社会保険料の領収書 \\n\", \"口座開設ガイド_03\": \"·事務所の賃貸契約書 \\n· (登記している場合のみ)商号登記簿謄本 \\n·公共料金(電気·ガス·水道·その他これらに準ずるものに \\n係る料金)の領収書 \\n·その他屋号付で営業を行なっている事を確認できる書類 \\n(不明な場合は代サポへ転送。代サポ混雑時は、 \\n口座開設希望店/サービス課ロー役席へ確認) \\n電話での来店予約を案内。『〔37〕 B 予約受付』参照。 \\nテレビ窓口は日本語対応のみとなります。 \\n通訳の方などの付き添いもできませんのでご了承ください。 \\n(本人が日本語でのコミュニケーションが難しい/ \\n本人のサポートのため通訳が付き添いをしたいなど) \\nご希望の通帳種類により異なる。 \\n【Eco通帳】印鑑なしでお取引可能な「印鑑レスロ座」の選択が可能。 \\n【紙通帳】 \\n印鑑の届出が必要。 \\n*サイン取引について聞かれた場合は『_〔7〕 FAQ』参照。 \\n『ご本人さまが18歳未満の場合は、親権者の方のご来店でお手続きを承ることができます。』 \\nとお伝えし、年齢を確認 \\nお客さま情報等を入力·確認後、入力済みの携帯電話番号宛に \\nショートメッセージが送信される。 \\nショートメッセージを受信できない場合は手続き不可。 \\n『ご本人さまに確認していただき、日本以外に納税義務がある場合、 \\n外国納税者番号もお伺いすることをお伝えください。』 \\n以下、12を案内。 \\n1日本以外の国へ納税義務がある場合、 \\nあわせて外国納税者番号を確認のうえ来店いただく。『〔7〕 FAQ』参照 \\n2『受付は日本語のみの対応となります。』と案内。 \\n(本人が日本語を話せない/日本語によるコミュニケーションが難しい/ \\n通訳が付き添いをしたいなどの申出があれば、追加で案内) \\n『口座開設時のご説明、開設後のお取引は日本語での応対が主になります。 \\nご本人さまとの直接のコミュニケーションが難しい場合は、 \\n今後のお取引においてもご不便をおかけする可能性があるため、 \\nお断りとなる場合がございます。ご了承ください。』 \\n【口座開設時の本人確認書類】 \\nお客さまのお名前·現在お住いの住所·生年月日が確認できるもの。 \\n\", \"口座開設ガイド_04\": \"できるだけお客さまのお手元にお持ちのものからご持参いただく。 \\n1つで受付可能 \\n2つで受付可能 \\n· 運転免許証 \\n·個人番号カード \\n·パスポート(2020年2月3日以前に申請された日本政府発行の \\nもの) \\n·在留カード/特別永住者証明書 \\n· 各種健康保険証 \\n·所持人記入欄のない新型パスポート \\n(2020年2月4日以降に申請された日本政府発行のもの) \\n·市区町村出生届出済の証明印がある母子健康手帳 \\n· 住民票 \\n表以外の本人確認書類については、『_〔6〕 B 取引時確認』参照。 \\n*本人確認書類が旧住所の場合の補足資料は『_〔6〕FAQ』参照。 \\n*パスポートに記載の住所が旧住所の場合は『〔6〕FAQ』参照。 \\nページTOP \\n目次へ \\n· FAQ \\n× \\n● \\n関連リンク \\n× \\n● \\n後処理項目 \\n1. 業務カテゴリ \\n2.7.普通預金·S普通預金 \\n3. 商品サービス種類 \\n4. 新規手続方法(●●) \\n5. 商品サービス詳細 \\n6 .- (※代サポ専用) \\n7. 作成年月日 \\n\", \"口座開設ガイド_05\": \"8. 2008年04月01日 \\n9. 更新年月日 \\n10. \\n11. ツールNo \\n12. [7] B-2 \\n\"}\n",
      "Category: manual\n",
      "Caption: \\n(○○支店で作れますか) \\n【手続チャネルごとの比較】 \\n【来店予約ヘルプ】 \\n*紙通帳利用手数料については、 \\n『〔7〕 K手数料』参照 \\n√ \\n座開設(スクリプト)<来店予約プラスワント \\nまず象口座の開設でございますね。 \\nお電話いただいているお客さま個人の口座でしょうか 。 ※ \\n親が子どもの口座を作れるか。 \\n○個人(本人/代理人) \\n○子ども(15歳以上 18歳未満)※18歳以上の子ども \\n○子ども(15歳未満) \\n○個人事業者 \\nC \\n法人 \\nC \\n任意団体 \\n完了 \\n『申し訳ございませんが、18歳以上の方は、 \\nご本人さまのお手続きが必要でございます。 』 \\nとお伝えし、個人(本人/代理人)のラジオボタンを選択。\n",
      "\n",
      "Title: ダイレクト利用手続き\n",
      "Reranker Score: 1.0840991735458374\n",
      "Content: {\"ダイレクト利用手続き_01\": \"三菱UFJダイレクトを利用したい(普通預金口座保有) \\nワンタイムバスワードの利用登録が完了するまではワンタイムバスワード必須取引はご利用いただけません。 \\n三菱UFJダイレクトの利用をご希望でございますね。ありがとうございます。お手続きにあたり、何点か確認してもよろしいですか。 \\nお持ちの口座は、個人名義の口座ですか。 \\n(※口座名義に屋号が含まれる場合、三菱UFJダイレクトはお申し込みいただけません。) \\nはい \\nいいえ(法人· \\n屋号付口座名義) \\nBizStation案内 \\nお客さまは、今回利用をご希望の口座以外に、三菱UFJダイレクトの契約をお持ちですか。 \\n契約なし \\n契約あり \\n+ \\n恐れ入りますが、ダイレクト契約はお一人さま一契約まででございます。 \\n今回お申し込み希望の口座を、お持ちのダイレクトにサービス指定口座として \\nご登録いただくとダイレクトのサービスをご利用いただけます。 \\nサービス指定口座に登録をご希望でしょうか。 \\n登録したい \\n登録しない \\nサービス指定口座に登録したい \\nクローズ \\nダイレクトの利用(申込)方法は、ホームページ、支店窓口とございますが、ご希望はございますか。 \\nホームページ \\n【注意点】 \\n振込等各種お取引をご希望の場合は、ログインバスワード登録後に \\nOTPの利用登録が必要 \\n支店窓口 \\n【来店時の持ち物】 \\n·通帳·キャッシュカード \\n· 届出印· 本人確認資料 \\nキャッシュカードはお手元にございますか。 \\nある \\nない \\n支店検索 \\nクローズ \\n·キャッシュカードを発行していない \\n⇒窓口での申込を案内 \\n·キャッシュカードを紛失した \\n⇒喪失受付センターへ転送 \\n·キャッシュカードを今持っていない \\n⇒住所変更がなければ \\nお手元にある状態で申込を依頼 \\n◇備考 \\nデフォルト限度額について \\n2015/8/9~振込·ネット振込·ベイジー限度額10万円、 \\nそれ以外は上限金額に設定される。 \\n(2015/8/8以前は振込限度額50万円、それ以外は上限金額) \\n登録住所に変更はございませんか。 \\nない \\nある \\nまず住所変更の手続をしていただく。 \\n※電話での手続きの場合は通帳が必要 \\nCC認証へ転送 \\nそれでは、ホームページからの利用方法をご案内いたします。 \\nお客さまの契約状況により、お手続きいただけない場合がございます。あらかじめご了承ください。 \\nまた、 \\n座情報やキャッシュカード暗証番号などの入力に複数回相違がございますと \\nロックがかかる可能性がありますので、入力の際はご注意ください。 \\nただいま、お電話をしながら操作することはできますか。 \\nご利用いただいている端末はパソコンですか。スマートフォンですか。 \\n画面誘導 もしくは 手順案内 \\nご契約番号(※)がわからなくなった場合は、キャッシュカードに記載の「店番」と「口座番号」でログインが可能です。 \\n※ログイン後トップページ(名前·口座番号の下)に記載あり \\nホームページからログインバスワード登録を行うと、すぐにログインができますが \\nインターネットバンキングで資金移動などの取引を行うためには、ワンタイムバスワードの申し込みが必要です。 \\n「アプリ」か「カード」のどちらかのワンタイムバスワード利用登録をお手続きくださいますようお願いいたします。 \\n※アプリの場合⇒ダウンロードと利用登録が完了すればすぐに取引可 \\nワンタイムバスワードを「カード」で利用をご希望の場合 \\nワンタイムバスワードカードは、申込後、登録住所宛にゆうメールでお送りします。 \\nお手元に届きましたら、ワンタイムバスワードカードの利用登録を行っていただくことで、インターネットバンキングのすべての 取引をご利用いただけます。 \\nお手数ではございますが、お手続きをお願いいたします。操作方法についてご不明な点がございましたら、お気軽にお問い合わせください。 \\n三菱UFJダイレクトへのお申し込み、ありがとうございました。 \\nクローズ \\n\"}\n",
      "Category: manual\n",
      "Caption: {\"ダイレクト利用手続き_01\": \"<em>三菱UFJダイレクト</em>を利用したい(普通預金口座保有) \\nワンタイムバスワードの利用登録が完了するまではワンタイムバスワード必須取引はご利用いただけません。 \\n<em>三菱UFJダイレクト</em>の利用をご希望でございますね。 ありがとうございます。 お手続きにあたり、何点か確認してもよろしいですか。 \\nお持ちの口座は、個人名義の口座ですか。 \\n(※口座名義に屋号が含まれる場合、三菱UFJダイレクトはお申し込みいただけません。 ) \\nはい \\nいいえ(法人· \\n屋号付口座名義) \\nBizStation案内 \\nお客さまは、今回利用をご希望の口座以外に、三菱UFJダイレクトの契約をお持ちですか。\n",
      "\n"
     ]
    }
   ],
   "source": [
    "# Semantic Hybrid Search\n",
    "query = \"提携コンビニでの ATM 手数料を教えてください。\"  \n",
    "\n",
    "search_client = SearchClient(service_endpoint, index_name, AzureKeyCredential(key))\n",
    "vector_query = VectorizedQuery(vector=utils.generate_embeddings(query, embedding_model, client), k_nearest_neighbors=3, fields=\"contentVector\")\n",
    "\n",
    "results = search_client.search(  \n",
    "    search_text=query,  \n",
    "    vector_queries=[vector_query],\n",
    "    select=[\"title\", \"content\", \"category\"],\n",
    "    query_type=QueryType.SEMANTIC, \n",
    "    semantic_configuration_name=\"default\",\n",
    "    query_caption=QueryCaptionType.EXTRACTIVE, \n",
    "    query_answer=QueryAnswerType.EXTRACTIVE,\n",
    "    top=3\n",
    ")\n",
    "\n",
    "semantic_answers = results.get_answers()\n",
    "for answer in semantic_answers:\n",
    "    if answer.highlights:\n",
    "        print(f\"Semantic Answer: {answer.highlights}\")\n",
    "    else:\n",
    "        print(f\"Semantic Answer: {answer.text}\")\n",
    "    print(f\"Semantic Answer Score: {answer.score}\\n\")\n",
    "\n",
    "for result in results:\n",
    "    print(f\"Title: {result['title']}\")\n",
    "    print(f\"Reranker Score: {result['@search.reranker_score']}\")\n",
    "    print(f\"Content: {result['content']}\")\n",
    "    print(f\"Category: {result['category']}\")\n",
    "\n",
    "    captions = result[\"@search.captions\"]\n",
    "    if captions:\n",
    "        caption = captions[0]\n",
    "        if caption.highlights:\n",
    "            print(f\"Caption: {caption.highlights}\\n\")\n",
    "        else:\n",
    "            print(f\"Caption: {caption.text}\\n\")"
   ]
  },
  {
   "cell_type": "markdown",
   "metadata": {},
   "source": [
    "### PERFORM A HYBRID MULTI-VECTOR SEARCH"
   ]
  },
  {
   "cell_type": "markdown",
   "metadata": {},
   "source": [
    "### タイトルと CONTENT をそれぞれベクトルに変換して検索する"
   ]
  },
  {
   "cell_type": "code",
   "execution_count": 11,
   "metadata": {},
   "outputs": [
    {
     "name": "stdout",
     "output_type": "stream",
     "text": [
      "Title: 手数料FAQ\n",
      "Reranker Score: 2.417011260986328\n",
      "Content: {\"手数料FAQ_01\": \"メインバンクプラス \\n手数料優遇サービス \\nポイントサービス \\n優遇內容照会 \\n資産管理レポート \\n改定 \\n普通預金·スーパー普通預金 >メインバンクプラス>メインバンクプラス ※ よくある質問はこちら \\n※「手数料優選サービス」は2021年6月(2021年6月30日判定、7月20日~8月19日適用分)より改定 \\n※「ポイントサービス」は2021年6月13日より申込受付開始(初回2021年6月30日判定、7月末ポイント反映) \\n案内方針 \\n<手数料優遇> ※「手数料がかかった(かかると表示された)」という申出があった場合は、必須案内項目をすべて案内 \\n· 【インターネットバンキングのご利用·判定条件·判定日·適用期間·S普通預金のみ対象】について、 \\n案内していない項目がある場合は、最後に下記を案内 \\n⇒「その他、優遇の条件や優遇適用の流れについては、当行HPやインターネットバンキングの \\n『メインバンクプラス』という項目からご確認ください。」 \\n<Pontaポイントサービス> \\n·「インターネットバンキングからポイントサービスの申込が必要」である旨を必ず案内 \\n·dスマートバンクのポイントサービスとの併用は不可 \\n※ dスマートバンクのポイントサービスを契約している状態で、Pontaポイントサービスの利用登録を行うと、 \\n自動的にdスマートバンクのポイントサービスは解除される \\n·その他内容については、聞かれたことに回答のうえ、最後に下記を案内 \\n⇒「ポイントサービスについては、当行HPやインターネットバンキングのPontaポイントの項目からご確認ください。」 \\n対象者 \\n優遇内容·判定条件 \\n優遇サービスの内容により、判定条件がそれぞれ異なる \\n手数料優遇 \\nサービス \\nポイント \\nサービス \\n判定の考え方 \\n付加サービス \\n利用条件 \\nスーパー普通預金を保有している、個人·個人事業主 \\n※ 屋号付個人·非居住者·成年後見人制度口座の場合の \\n1 手数料優遇サービス(「当行ATM利用手数料」「提携コンビニ利用手数料」「ダイレクト他行宛振込手数料」の優遇) \\n判定条件 \\n※ 当行同一名義の全口座 \\nで判定9 \\nインターネットバンキングのご利用の \\n※ 月末日基準(土日祝含む)で70歳以上の方は不要 \\n+ \\n+ \\n· Eco通帳をご利用の方 \\n※ Eco通帳契約の確認方法! \\n·1回の受取金額が10万円以上かつ、取引内容(通帳 \\n摘要欄)に漢字2文字で「給料」「貸与」「年金」いずれ \\nかの記載の取引がある方 \\n※ 年金は判定基準月および基準月の前月に1回あたり \\n10万円以上の受取があれば対象(具体例0) \\n※ 給与·年金についてのよくある質問はこちらロ \\n※ 給与·年金の明細表示例はこちらロ \\n優遇內容 \\n三菱UFJ銀行ATM \\n利用手数料 \\n期間中何回でも無料 \\n期間中何回でも無料 \\n提携コンビニATMO \\n利用手数料 \\n期間中1回まで無料 \\n期間中2回まで無料 \\n三菱UFJダイレクトO \\n他行宛振込手数料 \\n期間中1回まで無料 \\n期間中3回まで無料 \\n判定日 \\n月末最終営業日に判定 \\n適用期間 \\n判定日の翌月20日から翌々月19日まで \\n優遇対象 \\n優遇サービスを受けられる口座はスーパー普通預金のみ \\n【高齢者·障がいをお持ちの方への対応】※ 必要に応じて案内 \\n·月末日基準(土日祝含む)で70歳以上の方は、インターネットバンキングのご利用のおよび判定条件を満たしていなくても、当行 \\nATMの時間外手数料が何回でも無料 \\n· 障がいをお持ちの方は、窓口で申告手続することでインターネットバンキングのご利用 が不要となり、お取引状況に関わらず、 \\n10万円以上の「給料」受取がある場合と同様の優遇が適用される措置あり \\n※ 詳細はSVへエスカレ \\n2 ポイントサービス(お取引に応じて毎月Pontaポイントのが付与されるサービス) \\n※ dスマートバンクのポイントサービスとの併用不可! \\nポイント加算条件 \\n·三菱UFJダイレクトからポイントサービスへ申込が必要(2021年6月13日より受付開始) \\n※ 当行同一名義の \\n※ 画面見本はこちらロ (申込時にはPonta会員IDOが必要) \\n全口座で判定! \\n·月中に以下の取引があること \\n対象取引 \\nポイント \\n加算数 \\n条件詳細 \\n·ダイレクトにログイン \\n5ポイント/月 \\n三菱UFJダイレクトにログインで対象 \\n※ 複数回ログインしてもポイントは不変 \\n· \\n口座振替 \\n当行デビットの利用の \\nクレジットカードの引落 \\n10ポイント/月 \\n当行が定める口座振替の引き落としのがあれば対象 \\n※ 対象取引が複数あってもポイントは不変 \\n·投信つみたて(1万円ごと) \\n·外貨つみたて(1万円ごと) \\n30ポイント \\n(上限300P/月) \\n※ 本条件の詳細は運用商品Grロ へ誘導 \\n投信つみたて(継続購入プラン)、外貨つみたて(外貨 \\n貯蓄預金「継続預入プラン」)で行われた自動振替金 \\n額、合計1万円ごとに対象 \\n※ ポイント加算上限について! \\n· 運用商品残高が50万円以上 \\n50ポイント/月 \\n※ 本条件の詳細は運用商品Grロ へ誘導 \\n外貨預金、投資信託(NISA含む)、公共債、金融商品 \\n仲介、MUFGファンドラップの運用商品残高が合計50万 \\n円以上で対象(保険およびiDecoは対象外) \\n·住宅ローンのご利用 \\n50ポイント/月 \\n当行住宅ローン、住宅金融支援機構の「フラット35 \\n(買取型)」「フラット35(保証型)」、auじぶん銀行 \\n専用三菱UFJネット住宅ローンのお借入残高があれば対 \\n象 \\n※ 借入種類によっては対象外の場合あり(詳細は口座 \\n店へ誘導) \\n判定日 \\n月末最終営業日に判定 \\n※ただし、「ダイレクトへのログイン」「口座振替」「当行デビットの利用!」は銀行休業日含む月末日基準で判定 \\nポイント加算日 \\n(反映日) \\n翌月末頃にPontaポイントのを付与 \\n※ 当行で直近に加算したPontaポイント(ひと月分) はダイレクト上で確認可能 \\n※ 画面見本はこちらロ (3ポイント確認を参照) \\n※ 過去に加算されたポイントや、獲得ポイントの内訳、当行以外で獲得したポイント等はPontaWebOにて確認可能 \\n(ダイレクト上からリンク有) \\n【その他】 \\n·ポイントサービスの申込手続は1回のみで以後不要 \\n·PontaIDは1つのみ登録可能(複数登録不可) \\n·登録済のPontaIDの変更方法はこちら口 (2ポイントサービスの再申込を参照) \\n·ポイントサービスの解除方法はこちらロ \\n(4ポイントサービスの解除を参照) \\n月末最終窓口営業日基準のお取引状況によって、各種優遇が適用される \\n手数料優遇サービス \\n6月 \\n7月 \\n8月 \\n判定例 \\n判定日:6月末最終営業日 \\n·スーパー普通預金契約あり \\n·インターネットバンキングのご利用あり \\n·Eco通帳利用もしくは給与または年金受取あり \\n優遇適用期間 \\n2021年7月20日~8月19日 \\nPontaポイントサービス \\n判定例 \\n6月 \\n7月 \\n8月 \\n判定日:6月末最終営業日 \\nスーパー普通預金契約あり \\n·ダイレクトよりPontaポイントサービスの申込あり \\n·当行が定める所定の取引あり \\nポイント付与時期 \\n2021年7月末頃 \\n上記優遇のほか、インターネットバンキングで現在の資産状況、毎月の家計収支、入出金明細等が確認できる \\n「資産管理レポート(メインバンク総合ステートメント)」の利用が可能(サービスの詳細は「資産管理レポート」『参照) \\n口座保有数制限やダイレクト契約要否については、スーパー普通預金> 商品概要に を参照 \\n【その他】 \\n·2018年2月28日までの申込分をもって当初優遇期間 のサービスを廃止 \\n·2021年5月31日の判定分(6月19日~7月20日適用分)をもって、預金残高等による判定およびステージ制を廃止(改定前の優遇内容はこちら『) \\n\"}\n",
      "Category: manual\n",
      "Caption: 」 \\n対象者 \\n優遇内容·判定条件 \\n優遇サービスの内容により、判定条件がそれぞれ異なる \\n手数料優遇 \\nサービス \\nポイント \\nサービス \\n判定の考え方 \\n付加サービス \\n利用条件 \\nスーパー普通預金を保有している、個人·個人事業主 \\n※ 屋号付個人·非居住者·成年後見人制度口座の場合の \\n1 手数料優遇サービス(「当行ATM利用手数料」「提携コンビニ利用手数料」「ダイレクト他行宛振込手数料」の優遇) \\n判定条件 \\n※ 当行同一名義の全口座 \\nで判定9 \\nインターネットバンキングのご利用の \\n※ 月末日基準(土日祝含む)で70歳以上の方は不要 \\n+ \\n+ \\n· Eco通帳をご利用の方 \\n※ Eco通帳契約の確認方法! \\n·1回の受取金額が1…\n",
      "\n",
      "Title: 口座開設ガイド\n",
      "Reranker Score: 1.8410309553146362\n",
      "Content: {\"口座開設ガイド_01\": \"〔■個人名義のみスーパー普通預金(メインバン \\nグ【よくある質問】 \\n·Eco通帳とは何か。 \\n·Eco通帳と紙通帳で \\n迷われている場合は… \\n·窓口での手続き所要時間は? \\n·自宅(またはお勤め先)の \\n近くの支店は○○支店で \\n良いか。 \\n(○○支店で作れますか) \\n【手続チャネルごとの比較】 \\n【来店予約ヘルプ】 \\n*紙通帳利用手数料については、 \\n『〔7〕 K手数料』参照 \\n√ \\n座開設(スクリプト)<来店予約プラスワント \\nまず象口座の開設でございますね。 \\nお電話いただいているお客さま個人の口座でしょうか 。※ \\n親が子どもの口座を作れるか。 \\n○個人(本人/代理人) \\n○子ども(15歳以上 18歳未満)※18歳以上の子ども \\n○子ども(15歳未満) \\n○個人事業者 \\nC \\n法人 \\nC \\n任意団体 \\n完了 \\n『申し訳ございませんが、18歳以上の方は、 \\nご本人さまのお手続きが必要でございます。』 \\nとお伝えし、個人(本人/代理人)のラジオボタンを選択。 \\n外国籍のお客さまの場合、スマート口座開設での手続は不可。 \\n■個人の手続 \\n【口座開設時の本人確認書類】 \\nお客さまのお名前·現在お住いの住所·生年月日が確認できる \\nもの。 \\n● \\n人格確認 \\nニーズの把握 \\n● \\n本人確認書類 \\n● \\nチャネル提案 \\n● \\n税務上の居住地の確 \\nできるだけお客さまのお手元にお持ちのものからご持参いただ \\nく。 \\n手続方法 \\n1つで受付可能 \\nクロージング \\n2つで受付可能 \\n· 運転免許証 \\n·個人番号カード \\n·パスポート(2020年2月3日以前に申請 \\nされた日本政府発行のもの) \\n·在留カード/特別永住者証明書 \\n· 各種健康保険証 \\n· 年金手帳(国民 · 厚生) \\n·所持人記入欄のない新型パスポート \\n(2020年2月4日以降に申請された日本政 \\n府発行のもの) \\n· (20歳未満の場合)市区町村出生届出済 \\nの証明印がある母子健康手帳 \\n·住民票 \\n表以外の本人確認書類については、『_〔6〕B 取引時確認』参照。 \\n*本人確認書類が旧住所の場合の補足資料は『_〔6〕FAQ』参照。 \\n*パスポートに記載の住所が旧住所の場合は『〔6〕FAQ』参照。 \\n\", \"口座開設ガイド_02\": \"【名義人(子)が、日本以外に所得税の納税義務がある場合/米国籍の場合】 \\n通常の案内とあわせて、外国納税者番号を確認のうえご来店いただくよう案内。 \\n※国籍を問診することは厳禁(お客さまより申出があった場合のみ注意すること) \\n電話での来店予約を案内。『〔37〕 B 予約受付』参照。 \\n口座開設後、紙通帳とEco通帳の切替えはいつでも可能ですので、 \\n詳細は窓口でご確認ください。 \\n「記入のご協力をお願いしております。」と回答。 \\n新規口座開設の場合、「在留カードが交付されているお客さま」は \\n必ず在留カードをお持ちいただく。 \\n*在留期限が近づいていると申出があった場合は、更新後にご来店いただく。 \\n*上記以外(特別永住者等)のお客さまは、通常どおりの本人確認書類で可。 \\n個人番号(マイナンバー)届出は任意のため、 \\n番号確認書類+本人確認書類(『〔6〕C番号確認』)がなくても手続は可能。 \\n*法令により、口座にマイナンバーを紐付けて管理する義務が \\n銀行に課せられているため、届出のご協力をお願いしているもの。 \\n『受付は日本語のみの対応となります。』と案内。 \\n(本人が日本語を話せない/日本語によるコミュニケーションが難しい/ \\n通訳が付き添いをしたいなどの申出があれば、追加で案内) \\n『口座開設時のご説明、開設後のお取引は日本語での応対が主になります。 \\nご本人さまとの直接のコミュニケーションが難しい場合は、 \\n今後のお取引においてもご不便をおかけする可能性があるため、 \\nお断りとなる場合がございます。ご了承ください。』 \\n·ご利用は任意。 \\n·当行HPで『ホームページ事前受付』と検索していただく。 \\n·入力方法で不明な点があれば、0120-860-777 (IVR7) へ架け直し。 \\n(HP事前受付の更なる詳細は、FAQ参照。) \\n·病気や怪我等により、直筆による申込書作成が困難 \\n·至急の口座開設を強く希望し、やむを得ない理由がある 等、 \\n親権者の代筆による申込の強い要望がある場合は、 \\n口座開設希望店/営業課(口一役席)へ転送。 \\n屋号が確認できる書類とは、下記のいずれか \\n·国税、地方税の領収書、納税証明書 \\n·税務署収受印付の確定申告書 \\n·社会保険料の領収書 \\n\", \"口座開設ガイド_03\": \"·事務所の賃貸契約書 \\n· (登記している場合のみ)商号登記簿謄本 \\n·公共料金(電気·ガス·水道·その他これらに準ずるものに \\n係る料金)の領収書 \\n·その他屋号付で営業を行なっている事を確認できる書類 \\n(不明な場合は代サポへ転送。代サポ混雑時は、 \\n口座開設希望店/サービス課ロー役席へ確認) \\n電話での来店予約を案内。『〔37〕 B 予約受付』参照。 \\nテレビ窓口は日本語対応のみとなります。 \\n通訳の方などの付き添いもできませんのでご了承ください。 \\n(本人が日本語でのコミュニケーションが難しい/ \\n本人のサポートのため通訳が付き添いをしたいなど) \\nご希望の通帳種類により異なる。 \\n【Eco通帳】印鑑なしでお取引可能な「印鑑レスロ座」の選択が可能。 \\n【紙通帳】 \\n印鑑の届出が必要。 \\n*サイン取引について聞かれた場合は『_〔7〕 FAQ』参照。 \\n『ご本人さまが18歳未満の場合は、親権者の方のご来店でお手続きを承ることができます。』 \\nとお伝えし、年齢を確認 \\nお客さま情報等を入力·確認後、入力済みの携帯電話番号宛に \\nショートメッセージが送信される。 \\nショートメッセージを受信できない場合は手続き不可。 \\n『ご本人さまに確認していただき、日本以外に納税義務がある場合、 \\n外国納税者番号もお伺いすることをお伝えください。』 \\n以下、12を案内。 \\n1日本以外の国へ納税義務がある場合、 \\nあわせて外国納税者番号を確認のうえ来店いただく。『〔7〕 FAQ』参照 \\n2『受付は日本語のみの対応となります。』と案内。 \\n(本人が日本語を話せない/日本語によるコミュニケーションが難しい/ \\n通訳が付き添いをしたいなどの申出があれば、追加で案内) \\n『口座開設時のご説明、開設後のお取引は日本語での応対が主になります。 \\nご本人さまとの直接のコミュニケーションが難しい場合は、 \\n今後のお取引においてもご不便をおかけする可能性があるため、 \\nお断りとなる場合がございます。ご了承ください。』 \\n【口座開設時の本人確認書類】 \\nお客さまのお名前·現在お住いの住所·生年月日が確認できるもの。 \\n\", \"口座開設ガイド_04\": \"できるだけお客さまのお手元にお持ちのものからご持参いただく。 \\n1つで受付可能 \\n2つで受付可能 \\n· 運転免許証 \\n·個人番号カード \\n·パスポート(2020年2月3日以前に申請された日本政府発行の \\nもの) \\n·在留カード/特別永住者証明書 \\n· 各種健康保険証 \\n·所持人記入欄のない新型パスポート \\n(2020年2月4日以降に申請された日本政府発行のもの) \\n·市区町村出生届出済の証明印がある母子健康手帳 \\n· 住民票 \\n表以外の本人確認書類については、『_〔6〕 B 取引時確認』参照。 \\n*本人確認書類が旧住所の場合の補足資料は『_〔6〕FAQ』参照。 \\n*パスポートに記載の住所が旧住所の場合は『〔6〕FAQ』参照。 \\nページTOP \\n目次へ \\n· FAQ \\n× \\n● \\n関連リンク \\n× \\n● \\n後処理項目 \\n1. 業務カテゴリ \\n2.7.普通預金·S普通預金 \\n3. 商品サービス種類 \\n4. 新規手続方法(●●) \\n5. 商品サービス詳細 \\n6 .- (※代サポ専用) \\n7. 作成年月日 \\n\", \"口座開設ガイド_05\": \"8. 2008年04月01日 \\n9. 更新年月日 \\n10. \\n11. ツールNo \\n12. [7] B-2 \\n\"}\n",
      "Category: manual\n",
      "Caption: \\n(○○支店で作れますか) \\n【手続チャネルごとの比較】 \\n【来店予約ヘルプ】 \\n*紙通帳利用手数料については、 \\n『〔7〕 K手数料』参照 \\n√ \\n座開設(スクリプト)<来店予約プラスワント \\nまず象口座の開設でございますね。 \\nお電話いただいているお客さま個人の口座でしょうか 。 ※ \\n親が子どもの口座を作れるか。 \\n○個人(本人/代理人) \\n○子ども(15歳以上 18歳未満)※18歳以上の子ども \\n○子ども(15歳未満) \\n○個人事業者 \\nC \\n法人 \\nC \\n任意団体 \\n完了 \\n『申し訳ございませんが、18歳以上の方は、 \\nご本人さまのお手続きが必要でございます。 』 \\nとお伝えし、個人(本人/代理人)のラジオボタンを選択。\n",
      "\n",
      "Title: ダイレクト利用手続き\n",
      "Reranker Score: 1.0840991735458374\n",
      "Content: {\"ダイレクト利用手続き_01\": \"三菱UFJダイレクトを利用したい(普通預金口座保有) \\nワンタイムバスワードの利用登録が完了するまではワンタイムバスワード必須取引はご利用いただけません。 \\n三菱UFJダイレクトの利用をご希望でございますね。ありがとうございます。お手続きにあたり、何点か確認してもよろしいですか。 \\nお持ちの口座は、個人名義の口座ですか。 \\n(※口座名義に屋号が含まれる場合、三菱UFJダイレクトはお申し込みいただけません。) \\nはい \\nいいえ(法人· \\n屋号付口座名義) \\nBizStation案内 \\nお客さまは、今回利用をご希望の口座以外に、三菱UFJダイレクトの契約をお持ちですか。 \\n契約なし \\n契約あり \\n+ \\n恐れ入りますが、ダイレクト契約はお一人さま一契約まででございます。 \\n今回お申し込み希望の口座を、お持ちのダイレクトにサービス指定口座として \\nご登録いただくとダイレクトのサービスをご利用いただけます。 \\nサービス指定口座に登録をご希望でしょうか。 \\n登録したい \\n登録しない \\nサービス指定口座に登録したい \\nクローズ \\nダイレクトの利用(申込)方法は、ホームページ、支店窓口とございますが、ご希望はございますか。 \\nホームページ \\n【注意点】 \\n振込等各種お取引をご希望の場合は、ログインバスワード登録後に \\nOTPの利用登録が必要 \\n支店窓口 \\n【来店時の持ち物】 \\n·通帳·キャッシュカード \\n· 届出印· 本人確認資料 \\nキャッシュカードはお手元にございますか。 \\nある \\nない \\n支店検索 \\nクローズ \\n·キャッシュカードを発行していない \\n⇒窓口での申込を案内 \\n·キャッシュカードを紛失した \\n⇒喪失受付センターへ転送 \\n·キャッシュカードを今持っていない \\n⇒住所変更がなければ \\nお手元にある状態で申込を依頼 \\n◇備考 \\nデフォルト限度額について \\n2015/8/9~振込·ネット振込·ベイジー限度額10万円、 \\nそれ以外は上限金額に設定される。 \\n(2015/8/8以前は振込限度額50万円、それ以外は上限金額) \\n登録住所に変更はございませんか。 \\nない \\nある \\nまず住所変更の手続をしていただく。 \\n※電話での手続きの場合は通帳が必要 \\nCC認証へ転送 \\nそれでは、ホームページからの利用方法をご案内いたします。 \\nお客さまの契約状況により、お手続きいただけない場合がございます。あらかじめご了承ください。 \\nまた、 \\n座情報やキャッシュカード暗証番号などの入力に複数回相違がございますと \\nロックがかかる可能性がありますので、入力の際はご注意ください。 \\nただいま、お電話をしながら操作することはできますか。 \\nご利用いただいている端末はパソコンですか。スマートフォンですか。 \\n画面誘導 もしくは 手順案内 \\nご契約番号(※)がわからなくなった場合は、キャッシュカードに記載の「店番」と「口座番号」でログインが可能です。 \\n※ログイン後トップページ(名前·口座番号の下)に記載あり \\nホームページからログインバスワード登録を行うと、すぐにログインができますが \\nインターネットバンキングで資金移動などの取引を行うためには、ワンタイムバスワードの申し込みが必要です。 \\n「アプリ」か「カード」のどちらかのワンタイムバスワード利用登録をお手続きくださいますようお願いいたします。 \\n※アプリの場合⇒ダウンロードと利用登録が完了すればすぐに取引可 \\nワンタイムバスワードを「カード」で利用をご希望の場合 \\nワンタイムバスワードカードは、申込後、登録住所宛にゆうメールでお送りします。 \\nお手元に届きましたら、ワンタイムバスワードカードの利用登録を行っていただくことで、インターネットバンキングのすべての 取引をご利用いただけます。 \\nお手数ではございますが、お手続きをお願いいたします。操作方法についてご不明な点がございましたら、お気軽にお問い合わせください。 \\n三菱UFJダイレクトへのお申し込み、ありがとうございました。 \\nクローズ \\n\"}\n",
      "Category: manual\n",
      "Caption: {\"ダイレクト利用手続き_01\": \"<em>三菱UFJダイレクト</em>を利用したい(普通預金口座保有) \\nワンタイムバスワードの利用登録が完了するまではワンタイムバスワード必須取引はご利用いただけません。 \\n<em>三菱UFJダイレクト</em>の利用をご希望でございますね。 ありがとうございます。 お手続きにあたり、何点か確認してもよろしいですか。 \\nお持ちの口座は、個人名義の口座ですか。 \\n(※口座名義に屋号が含まれる場合、三菱UFJダイレクトはお申し込みいただけません。 ) \\nはい \\nいいえ(法人· \\n屋号付口座名義) \\nBizStation案内 \\nお客さまは、今回利用をご希望の口座以外に、三菱UFJダイレクトの契約をお持ちですか。\n",
      "\n"
     ]
    }
   ],
   "source": [
    "# Semantic Hybrid Search\n",
    "query = \"提携コンビニでの ATM 手数料を教えてください。\"  \n",
    "\n",
    "search_client = SearchClient(service_endpoint, index_name, AzureKeyCredential(key))\n",
    "vector_query_1 = VectorizedQuery(vector=utils.generate_embeddings(query, embedding_model, client), k_nearest_neighbors=3, fields=\"titleVector\")\n",
    "vector_query_2 = VectorizedQuery(vector=utils.generate_embeddings(query, embedding_model, client), k_nearest_neighbors=3, fields=\"contentVector\")\n",
    "\n",
    "results = search_client.search(  \n",
    "    search_text=query,  \n",
    "    vector_queries=[vector_query_1, vector_query_2],\n",
    "    select=[\"title\", \"content\", \"category\"],\n",
    "    query_type=QueryType.SEMANTIC, \n",
    "    semantic_configuration_name=\"default\",\n",
    "    query_caption=QueryCaptionType.EXTRACTIVE, \n",
    "    query_answer=QueryAnswerType.EXTRACTIVE,\n",
    "    top=3\n",
    ")\n",
    "\n",
    "semantic_answers = results.get_answers()\n",
    "for answer in semantic_answers:\n",
    "    if answer.highlights:\n",
    "        print(f\"Semantic Answer: {answer.highlights}\")\n",
    "    else:\n",
    "        print(f\"Semantic Answer: {answer.text}\")\n",
    "    print(f\"Semantic Answer Score: {answer.score}\\n\")\n",
    "\n",
    "for result in results:\n",
    "    print(f\"Title: {result['title']}\")\n",
    "    print(f\"Reranker Score: {result['@search.reranker_score']}\")\n",
    "    print(f\"Content: {result['content']}\")\n",
    "    print(f\"Category: {result['category']}\")\n",
    "\n",
    "    captions = result[\"@search.captions\"]\n",
    "    if captions:\n",
    "        caption = captions[0]\n",
    "        if caption.highlights:\n",
    "            print(f\"Caption: {caption.highlights}\\n\")\n",
    "        else:\n",
    "            print(f\"Caption: {caption.text}\\n\")"
   ]
  },
  {
   "cell_type": "markdown",
   "metadata": {},
   "source": [
    "### END OF SCRIPT"
   ]
  }
 ],
 "metadata": {
  "kernelspec": {
   "display_name": "Python (py10)",
   "language": "python",
   "name": "py10"
  },
  "language_info": {
   "codemirror_mode": {
    "name": "ipython",
    "version": 3
   },
   "file_extension": ".py",
   "mimetype": "text/x-python",
   "name": "python",
   "nbconvert_exporter": "python",
   "pygments_lexer": "ipython3",
   "version": "3.10.13"
  }
 },
 "nbformat": 4,
 "nbformat_minor": 2
}
